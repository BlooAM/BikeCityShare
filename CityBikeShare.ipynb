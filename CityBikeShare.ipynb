{
 "cells": [
  {
   "cell_type": "markdown",
   "metadata": {},
   "source": [
    "# Bike City Share\n",
    "\n",
    "We will work on the data posted on the site [NYC and Bike City Share, LCC and Jersey City Share, LCC](https://www.citibikenyc.com/system-data). The data shall include details of urban bike rentals (start and end date, destination, geographical data, etc.).\n",
    "\n",
    "## Preparation\n",
    "Let's first download the data corresponding to one month (the most recent)"
   ]
  },
  {
   "cell_type": "code",
   "execution_count": 34,
   "metadata": {},
   "outputs": [],
   "source": [
    "import pandas as pd\n",
    "import zipfile\n",
    "import os\n",
    "\n",
    "\n",
    "data_folder = 'data'\n",
    "data_file_sample = '201910-citibike-tripdata'\n",
    "data_path = os.path.join(os.getcwd(), data_folder, data_file_sample+'.csv.zip')\n",
    "zf = zipfile.ZipFile(data_path)\n",
    "data_sample = pd.read_csv(zf.open(data_file_sample+'.csv'), parse_dates=['starttime', 'stoptime'])"
   ]
  },
  {
   "cell_type": "markdown",
   "metadata": {},
   "source": [
    "## A glance at the data\n",
    "Let's check at the beginning what the general data structure looks like"
   ]
  },
  {
   "cell_type": "code",
   "execution_count": 35,
   "metadata": {},
   "outputs": [
    {
     "data": {
      "text/html": [
       "<div>\n",
       "<style scoped>\n",
       "    .dataframe tbody tr th:only-of-type {\n",
       "        vertical-align: middle;\n",
       "    }\n",
       "\n",
       "    .dataframe tbody tr th {\n",
       "        vertical-align: top;\n",
       "    }\n",
       "\n",
       "    .dataframe thead th {\n",
       "        text-align: right;\n",
       "    }\n",
       "</style>\n",
       "<table border=\"1\" class=\"dataframe\">\n",
       "  <thead>\n",
       "    <tr style=\"text-align: right;\">\n",
       "      <th></th>\n",
       "      <th>tripduration</th>\n",
       "      <th>starttime</th>\n",
       "      <th>stoptime</th>\n",
       "      <th>start station id</th>\n",
       "      <th>start station name</th>\n",
       "      <th>start station latitude</th>\n",
       "      <th>start station longitude</th>\n",
       "      <th>end station id</th>\n",
       "      <th>end station name</th>\n",
       "      <th>end station latitude</th>\n",
       "      <th>end station longitude</th>\n",
       "      <th>bikeid</th>\n",
       "      <th>usertype</th>\n",
       "      <th>birth year</th>\n",
       "      <th>gender</th>\n",
       "    </tr>\n",
       "  </thead>\n",
       "  <tbody>\n",
       "    <tr>\n",
       "      <th>0</th>\n",
       "      <td>527</td>\n",
       "      <td>2019-10-01 00:00:05.618</td>\n",
       "      <td>2019-10-01 00:08:52.943</td>\n",
       "      <td>3746</td>\n",
       "      <td>6 Ave &amp; Broome St</td>\n",
       "      <td>40.724308</td>\n",
       "      <td>-74.004730</td>\n",
       "      <td>223</td>\n",
       "      <td>W 13 St &amp; 7 Ave</td>\n",
       "      <td>40.737815</td>\n",
       "      <td>-73.999947</td>\n",
       "      <td>41750</td>\n",
       "      <td>Subscriber</td>\n",
       "      <td>1993</td>\n",
       "      <td>1</td>\n",
       "    </tr>\n",
       "    <tr>\n",
       "      <th>1</th>\n",
       "      <td>174</td>\n",
       "      <td>2019-10-01 00:00:15.875</td>\n",
       "      <td>2019-10-01 00:03:10.168</td>\n",
       "      <td>3301</td>\n",
       "      <td>Columbus Ave &amp; W 95 St</td>\n",
       "      <td>40.791956</td>\n",
       "      <td>-73.968087</td>\n",
       "      <td>3283</td>\n",
       "      <td>W 89 St &amp; Columbus Ave</td>\n",
       "      <td>40.788221</td>\n",
       "      <td>-73.970416</td>\n",
       "      <td>18264</td>\n",
       "      <td>Subscriber</td>\n",
       "      <td>1992</td>\n",
       "      <td>1</td>\n",
       "    </tr>\n",
       "    <tr>\n",
       "      <th>2</th>\n",
       "      <td>759</td>\n",
       "      <td>2019-10-01 00:00:19.824</td>\n",
       "      <td>2019-10-01 00:12:59.707</td>\n",
       "      <td>161</td>\n",
       "      <td>LaGuardia Pl &amp; W 3 St</td>\n",
       "      <td>40.729170</td>\n",
       "      <td>-73.998102</td>\n",
       "      <td>174</td>\n",
       "      <td>E 25 St &amp; 1 Ave</td>\n",
       "      <td>40.738177</td>\n",
       "      <td>-73.977387</td>\n",
       "      <td>25525</td>\n",
       "      <td>Subscriber</td>\n",
       "      <td>1995</td>\n",
       "      <td>1</td>\n",
       "    </tr>\n",
       "    <tr>\n",
       "      <th>3</th>\n",
       "      <td>615</td>\n",
       "      <td>2019-10-01 00:00:21.068</td>\n",
       "      <td>2019-10-01 00:10:36.679</td>\n",
       "      <td>254</td>\n",
       "      <td>W 11 St &amp; 6 Ave</td>\n",
       "      <td>40.735324</td>\n",
       "      <td>-73.998004</td>\n",
       "      <td>477</td>\n",
       "      <td>W 41 St &amp; 8 Ave</td>\n",
       "      <td>40.756405</td>\n",
       "      <td>-73.990026</td>\n",
       "      <td>30186</td>\n",
       "      <td>Subscriber</td>\n",
       "      <td>1992</td>\n",
       "      <td>1</td>\n",
       "    </tr>\n",
       "    <tr>\n",
       "      <th>4</th>\n",
       "      <td>761</td>\n",
       "      <td>2019-10-01 00:00:26.380</td>\n",
       "      <td>2019-10-01 00:13:08.313</td>\n",
       "      <td>161</td>\n",
       "      <td>LaGuardia Pl &amp; W 3 St</td>\n",
       "      <td>40.729170</td>\n",
       "      <td>-73.998102</td>\n",
       "      <td>174</td>\n",
       "      <td>E 25 St &amp; 1 Ave</td>\n",
       "      <td>40.738177</td>\n",
       "      <td>-73.977387</td>\n",
       "      <td>25597</td>\n",
       "      <td>Subscriber</td>\n",
       "      <td>1992</td>\n",
       "      <td>1</td>\n",
       "    </tr>\n",
       "  </tbody>\n",
       "</table>\n",
       "</div>"
      ],
      "text/plain": [
       "   tripduration               starttime                stoptime  \\\n",
       "0           527 2019-10-01 00:00:05.618 2019-10-01 00:08:52.943   \n",
       "1           174 2019-10-01 00:00:15.875 2019-10-01 00:03:10.168   \n",
       "2           759 2019-10-01 00:00:19.824 2019-10-01 00:12:59.707   \n",
       "3           615 2019-10-01 00:00:21.068 2019-10-01 00:10:36.679   \n",
       "4           761 2019-10-01 00:00:26.380 2019-10-01 00:13:08.313   \n",
       "\n",
       "   start station id      start station name  start station latitude  \\\n",
       "0              3746       6 Ave & Broome St               40.724308   \n",
       "1              3301  Columbus Ave & W 95 St               40.791956   \n",
       "2               161   LaGuardia Pl & W 3 St               40.729170   \n",
       "3               254         W 11 St & 6 Ave               40.735324   \n",
       "4               161   LaGuardia Pl & W 3 St               40.729170   \n",
       "\n",
       "   start station longitude  end station id        end station name  \\\n",
       "0               -74.004730             223         W 13 St & 7 Ave   \n",
       "1               -73.968087            3283  W 89 St & Columbus Ave   \n",
       "2               -73.998102             174         E 25 St & 1 Ave   \n",
       "3               -73.998004             477         W 41 St & 8 Ave   \n",
       "4               -73.998102             174         E 25 St & 1 Ave   \n",
       "\n",
       "   end station latitude  end station longitude  bikeid    usertype  \\\n",
       "0             40.737815             -73.999947   41750  Subscriber   \n",
       "1             40.788221             -73.970416   18264  Subscriber   \n",
       "2             40.738177             -73.977387   25525  Subscriber   \n",
       "3             40.756405             -73.990026   30186  Subscriber   \n",
       "4             40.738177             -73.977387   25597  Subscriber   \n",
       "\n",
       "   birth year  gender  \n",
       "0        1993       1  \n",
       "1        1992       1  \n",
       "2        1995       1  \n",
       "3        1992       1  \n",
       "4        1992       1  "
      ]
     },
     "execution_count": 35,
     "metadata": {},
     "output_type": "execute_result"
    }
   ],
   "source": [
    "data_sample.head()"
   ]
  },
  {
   "cell_type": "code",
   "execution_count": 36,
   "metadata": {},
   "outputs": [
    {
     "name": "stdout",
     "output_type": "stream",
     "text": [
      "<class 'pandas.core.frame.DataFrame'>\n",
      "RangeIndex: 2092573 entries, 0 to 2092572\n",
      "Data columns (total 15 columns):\n",
      "tripduration               int64\n",
      "starttime                  datetime64[ns]\n",
      "stoptime                   datetime64[ns]\n",
      "start station id           int64\n",
      "start station name         object\n",
      "start station latitude     float64\n",
      "start station longitude    float64\n",
      "end station id             int64\n",
      "end station name           object\n",
      "end station latitude       float64\n",
      "end station longitude      float64\n",
      "bikeid                     int64\n",
      "usertype                   object\n",
      "birth year                 int64\n",
      "gender                     int64\n",
      "dtypes: datetime64[ns](2), float64(4), int64(6), object(3)\n",
      "memory usage: 239.5+ MB\n"
     ]
    }
   ],
   "source": [
    "data_sample.info()"
   ]
  },
  {
   "cell_type": "markdown",
   "metadata": {},
   "source": [
    "We have fifteen attributes, three of which are of a categorical type (`start station name`, `end station name`, `usertype`), two are of `datatime64` type (`starttime`, `stoptime`) and the rest of which are numerical.\n",
    "\n",
    "We still have to answer the question what type of numerical data are - whether they can be treated as continuous or as a set of discrete values (for example, we can predict that the station identifiers will be considered as discrete)."
   ]
  },
  {
   "cell_type": "code",
   "execution_count": 37,
   "metadata": {},
   "outputs": [
    {
     "data": {
      "text/plain": [
       "tripduration                 10837\n",
       "starttime                  2091108\n",
       "stoptime                   2091139\n",
       "start station id               837\n",
       "start station name             837\n",
       "start station latitude         837\n",
       "start station longitude        837\n",
       "end station id                 848\n",
       "end station name               848\n",
       "end station latitude           848\n",
       "end station longitude          848\n",
       "bikeid                       15872\n",
       "usertype                         2\n",
       "birth year                     106\n",
       "gender                           3\n",
       "dtype: int64"
      ]
     },
     "execution_count": 37,
     "metadata": {},
     "output_type": "execute_result"
    }
   ],
   "source": [
    "data_sample.nunique()"
   ]
  },
  {
   "cell_type": "markdown",
   "metadata": {},
   "source": [
    "\n",
    "\n",
    "In the case of real-life data, one of the most important problems is the missing observations."
   ]
  },
  {
   "cell_type": "code",
   "execution_count": 38,
   "metadata": {},
   "outputs": [
    {
     "data": {
      "text/plain": [
       "tripduration               False\n",
       "starttime                  False\n",
       "stoptime                   False\n",
       "start station id           False\n",
       "start station name         False\n",
       "start station latitude     False\n",
       "start station longitude    False\n",
       "end station id             False\n",
       "end station name           False\n",
       "end station latitude       False\n",
       "end station longitude      False\n",
       "bikeid                     False\n",
       "usertype                   False\n",
       "birth year                 False\n",
       "gender                     False\n",
       "dtype: bool"
      ]
     },
     "execution_count": 38,
     "metadata": {},
     "output_type": "execute_result"
    }
   ],
   "source": [
    "data_sample.isnull().any()"
   ]
  },
  {
   "cell_type": "markdown",
   "metadata": {},
   "source": [
    "There is no problem with this particular sample. Nevertheless, care should be taken, as missing observations may appear in data from other periods - you have to be prepared for such a possibility. We will address this issue at a later stage.\n",
    "\n",
    "In the case under consideration, the duration of the trip (`tripduration` - expressed in seconds) is a categorical, continuous variable. Visualization of this type of data is convenient with the use of histogram"
   ]
  },
  {
   "cell_type": "code",
   "execution_count": 39,
   "metadata": {},
   "outputs": [
    {
     "data": {
      "image/png": "[encoded data removed]",
      "text/plain": [
       "<Figure size 1152x720 with 1 Axes>"
      ]
     },
     "metadata": {
      "needs_background": "light"
     },
     "output_type": "display_data"
    }
   ],
   "source": [
    "%matplotlib inline\n",
    "import matplotlib.pyplot as plt\n",
    "\n",
    "data_sample['tripduration'].hist(bins=50, figsize=(16,10))\n",
    "plt.show()"
   ]
  },
  {
   "cell_type": "markdown",
   "metadata": {},
   "source": [
    "Most of the values do not exceed one good (86400 seconds). However, there are extremely large observations"
   ]
  },
  {
   "cell_type": "code",
   "execution_count": 40,
   "metadata": {},
   "outputs": [
    {
     "data": {
      "text/html": [
       "<div>\n",
       "<style scoped>\n",
       "    .dataframe tbody tr th:only-of-type {\n",
       "        vertical-align: middle;\n",
       "    }\n",
       "\n",
       "    .dataframe tbody tr th {\n",
       "        vertical-align: top;\n",
       "    }\n",
       "\n",
       "    .dataframe thead th {\n",
       "        text-align: right;\n",
       "    }\n",
       "</style>\n",
       "<table border=\"1\" class=\"dataframe\">\n",
       "  <thead>\n",
       "    <tr style=\"text-align: right;\">\n",
       "      <th></th>\n",
       "      <th>tripduration</th>\n",
       "    </tr>\n",
       "  </thead>\n",
       "  <tbody>\n",
       "    <tr>\n",
       "      <th>42479</th>\n",
       "      <td>2946638</td>\n",
       "    </tr>\n",
       "    <tr>\n",
       "      <th>132013</th>\n",
       "      <td>2616700</td>\n",
       "    </tr>\n",
       "    <tr>\n",
       "      <th>383859</th>\n",
       "      <td>2493265</td>\n",
       "    </tr>\n",
       "    <tr>\n",
       "      <th>300921</th>\n",
       "      <td>2417904</td>\n",
       "    </tr>\n",
       "    <tr>\n",
       "      <th>86193</th>\n",
       "      <td>2055354</td>\n",
       "    </tr>\n",
       "    <tr>\n",
       "      <th>466589</th>\n",
       "      <td>1962511</td>\n",
       "    </tr>\n",
       "    <tr>\n",
       "      <th>605076</th>\n",
       "      <td>1962000</td>\n",
       "    </tr>\n",
       "    <tr>\n",
       "      <th>62979</th>\n",
       "      <td>1948100</td>\n",
       "    </tr>\n",
       "    <tr>\n",
       "      <th>825692</th>\n",
       "      <td>1790337</td>\n",
       "    </tr>\n",
       "    <tr>\n",
       "      <th>691709</th>\n",
       "      <td>1710328</td>\n",
       "    </tr>\n",
       "    <tr>\n",
       "      <th>119102</th>\n",
       "      <td>1497856</td>\n",
       "    </tr>\n",
       "    <tr>\n",
       "      <th>321420</th>\n",
       "      <td>1448516</td>\n",
       "    </tr>\n",
       "    <tr>\n",
       "      <th>32138</th>\n",
       "      <td>1430002</td>\n",
       "    </tr>\n",
       "    <tr>\n",
       "      <th>597174</th>\n",
       "      <td>1414807</td>\n",
       "    </tr>\n",
       "    <tr>\n",
       "      <th>26719</th>\n",
       "      <td>1384845</td>\n",
       "    </tr>\n",
       "    <tr>\n",
       "      <th>1149502</th>\n",
       "      <td>1247485</td>\n",
       "    </tr>\n",
       "    <tr>\n",
       "      <th>1232010</th>\n",
       "      <td>1158555</td>\n",
       "    </tr>\n",
       "    <tr>\n",
       "      <th>103348</th>\n",
       "      <td>1139432</td>\n",
       "    </tr>\n",
       "    <tr>\n",
       "      <th>1410660</th>\n",
       "      <td>1113302</td>\n",
       "    </tr>\n",
       "    <tr>\n",
       "      <th>1299488</th>\n",
       "      <td>1084995</td>\n",
       "    </tr>\n",
       "  </tbody>\n",
       "</table>\n",
       "</div>"
      ],
      "text/plain": [
       "         tripduration\n",
       "42479         2946638\n",
       "132013        2616700\n",
       "383859        2493265\n",
       "300921        2417904\n",
       "86193         2055354\n",
       "466589        1962511\n",
       "605076        1962000\n",
       "62979         1948100\n",
       "825692        1790337\n",
       "691709        1710328\n",
       "119102        1497856\n",
       "321420        1448516\n",
       "32138         1430002\n",
       "597174        1414807\n",
       "26719         1384845\n",
       "1149502       1247485\n",
       "1232010       1158555\n",
       "103348        1139432\n",
       "1410660       1113302\n",
       "1299488       1084995"
      ]
     },
     "execution_count": 40,
     "metadata": {},
     "output_type": "execute_result"
    }
   ],
   "source": [
    "data_sample[['tripduration']].sort_values(by='tripduration', ascending=False)[:20]"
   ]
  },
  {
   "cell_type": "markdown",
   "metadata": {},
   "source": [
    "The longest journey lasted over a month! ($2946638 \\ sec \\approx 34 \\ days$). This may mean that the bike has not been parked properly or there is an error in the time registration system. In any case, such observations obscure the overall distribution of this feature.\n",
    "\n",
    "In order to illustrate the distribution of travel time without taking into account outliers, it is possible to use the logarithm of a given feature"
   ]
  },
  {
   "cell_type": "code",
   "execution_count": 41,
   "metadata": {},
   "outputs": [
    {
     "data": {
      "image/png": "[encoded data removed]",
      "text/plain": [
       "<Figure size 1152x720 with 1 Axes>"
      ]
     },
     "metadata": {
      "needs_background": "light"
     },
     "output_type": "display_data"
    }
   ],
   "source": [
    "import numpy as np\n",
    "\n",
    "np.log(data_sample['tripduration']).hist(bins=50, figsize=(16,10))\n",
    "plt.show()"
   ]
  },
  {
   "cell_type": "markdown",
   "metadata": {},
   "source": [
    "For latitude and longitude, let's first note that the station name is clearly associated with its latitude, longitude and ID. Additionaly, end locations contain more unique names - let's see first that they contain all start locations"
   ]
  },
  {
   "cell_type": "code",
   "execution_count": 49,
   "metadata": {},
   "outputs": [
    {
     "data": {
      "text/plain": [
       "True"
      ]
     },
     "execution_count": 49,
     "metadata": {},
     "output_type": "execute_result"
    }
   ],
   "source": [
    "set(data_sample['end station id'].unique()).issubset(set(data_sample['end station id'].unique()))"
   ]
  },
  {
   "cell_type": "code",
   "execution_count": 54,
   "metadata": {},
   "outputs": [
    {
     "data": {
      "text/html": [
       "<div>\n",
       "<style scoped>\n",
       "    .dataframe tbody tr th:only-of-type {\n",
       "        vertical-align: middle;\n",
       "    }\n",
       "\n",
       "    .dataframe tbody tr th {\n",
       "        vertical-align: top;\n",
       "    }\n",
       "\n",
       "    .dataframe thead th {\n",
       "        text-align: right;\n",
       "    }\n",
       "</style>\n",
       "<table border=\"1\" class=\"dataframe\">\n",
       "  <thead>\n",
       "    <tr style=\"text-align: right;\">\n",
       "      <th></th>\n",
       "      <th>end station id</th>\n",
       "      <th>end station name</th>\n",
       "      <th>end station latitude</th>\n",
       "      <th>end station longitude</th>\n",
       "    </tr>\n",
       "  </thead>\n",
       "  <tbody>\n",
       "    <tr>\n",
       "      <th>0</th>\n",
       "      <td>223</td>\n",
       "      <td>W 13 St &amp; 7 Ave</td>\n",
       "      <td>40.737815</td>\n",
       "      <td>-73.999947</td>\n",
       "    </tr>\n",
       "    <tr>\n",
       "      <th>1</th>\n",
       "      <td>3283</td>\n",
       "      <td>W 89 St &amp; Columbus Ave</td>\n",
       "      <td>40.788221</td>\n",
       "      <td>-73.970416</td>\n",
       "    </tr>\n",
       "    <tr>\n",
       "      <th>2</th>\n",
       "      <td>174</td>\n",
       "      <td>E 25 St &amp; 1 Ave</td>\n",
       "      <td>40.738177</td>\n",
       "      <td>-73.977387</td>\n",
       "    </tr>\n",
       "    <tr>\n",
       "      <th>3</th>\n",
       "      <td>477</td>\n",
       "      <td>W 41 St &amp; 8 Ave</td>\n",
       "      <td>40.756405</td>\n",
       "      <td>-73.990026</td>\n",
       "    </tr>\n",
       "    <tr>\n",
       "      <th>7</th>\n",
       "      <td>3592</td>\n",
       "      <td>Crescent St &amp; Broadway</td>\n",
       "      <td>40.763359</td>\n",
       "      <td>-73.928647</td>\n",
       "    </tr>\n",
       "    <tr>\n",
       "      <th>...</th>\n",
       "      <td>...</td>\n",
       "      <td>...</td>\n",
       "      <td>...</td>\n",
       "      <td>...</td>\n",
       "    </tr>\n",
       "    <tr>\n",
       "      <th>1958781</th>\n",
       "      <td>3827</td>\n",
       "      <td>Halsey St &amp; Broadway</td>\n",
       "      <td>40.685650</td>\n",
       "      <td>-73.915640</td>\n",
       "    </tr>\n",
       "    <tr>\n",
       "      <th>1960912</th>\n",
       "      <td>3890</td>\n",
       "      <td>Grove St &amp; Broadway</td>\n",
       "      <td>40.690470</td>\n",
       "      <td>-73.923511</td>\n",
       "    </tr>\n",
       "    <tr>\n",
       "      <th>2043185</th>\n",
       "      <td>3828</td>\n",
       "      <td>Eldert St &amp; Bushwick Ave</td>\n",
       "      <td>40.686520</td>\n",
       "      <td>-73.913210</td>\n",
       "    </tr>\n",
       "    <tr>\n",
       "      <th>2081854</th>\n",
       "      <td>3868</td>\n",
       "      <td>Knickerbocker Ave &amp; Halsey St</td>\n",
       "      <td>40.693000</td>\n",
       "      <td>-73.908240</td>\n",
       "    </tr>\n",
       "    <tr>\n",
       "      <th>2087361</th>\n",
       "      <td>3833</td>\n",
       "      <td>Madison St &amp; Evergreen Ave</td>\n",
       "      <td>40.691220</td>\n",
       "      <td>-73.916930</td>\n",
       "    </tr>\n",
       "  </tbody>\n",
       "</table>\n",
       "<p>848 rows × 4 columns</p>\n",
       "</div>"
      ],
      "text/plain": [
       "         end station id               end station name  end station latitude  \\\n",
       "0                   223                W 13 St & 7 Ave             40.737815   \n",
       "1                  3283         W 89 St & Columbus Ave             40.788221   \n",
       "2                   174                E 25 St & 1 Ave             40.738177   \n",
       "3                   477                W 41 St & 8 Ave             40.756405   \n",
       "7                  3592         Crescent St & Broadway             40.763359   \n",
       "...                 ...                            ...                   ...   \n",
       "1958781            3827           Halsey St & Broadway             40.685650   \n",
       "1960912            3890            Grove St & Broadway             40.690470   \n",
       "2043185            3828       Eldert St & Bushwick Ave             40.686520   \n",
       "2081854            3868  Knickerbocker Ave & Halsey St             40.693000   \n",
       "2087361            3833     Madison St & Evergreen Ave             40.691220   \n",
       "\n",
       "         end station longitude  \n",
       "0                   -73.999947  \n",
       "1                   -73.970416  \n",
       "2                   -73.977387  \n",
       "3                   -73.990026  \n",
       "7                   -73.928647  \n",
       "...                        ...  \n",
       "1958781             -73.915640  \n",
       "1960912             -73.923511  \n",
       "2043185             -73.913210  \n",
       "2081854             -73.908240  \n",
       "2087361             -73.916930  \n",
       "\n",
       "[848 rows x 4 columns]"
      ]
     },
     "execution_count": 54,
     "metadata": {},
     "output_type": "execute_result"
    }
   ],
   "source": [
    "data_sample[['end station id', 'end station name', 'end station latitude', 'end station longitude']].drop_duplicates()"
   ]
  },
  {
   "cell_type": "markdown",
   "metadata": {},
   "source": [
    "Therefore, we can significantly reduce the amount of space needed in the memory by building a dictionary - its key will be the station identifier, and the value will be another dictionary that will store information about the station name and its geographical location"
   ]
  },
  {
   "cell_type": "code",
   "execution_count": 77,
   "metadata": {},
   "outputs": [
    {
     "data": {
      "text/plain": [
       "{'end station name': 'Madison St & Evergreen Ave',\n",
       " 'end station latitude': 40.69122,\n",
       " 'end station longitude': -73.91693000000001}"
      ]
     },
     "execution_count": 77,
     "metadata": {},
     "output_type": "execute_result"
    }
   ],
   "source": [
    "dict_data = data_sample[['end station id','end station name','end station latitude','end station longitude']].drop_duplicates()\n",
    "dict_data.set_index('end station id', drop=True, inplace=True)\n",
    "data_sample_station_dict = dict_data.to_dict(orient='index')\n",
    "data_sample_station_dict[3833]"
   ]
  },
  {
   "cell_type": "markdown",
   "metadata": {},
   "source": [
    "Geographic data is conveniently illustrated spatially"
   ]
  },
  {
   "cell_type": "code",
   "execution_count": 126,
   "metadata": {},
   "outputs": [
    {
     "data": {
      "text/plain": [
       "<matplotlib.axes._subplots.AxesSubplot at 0x1f90324bf08>"
      ]
     },
     "execution_count": 126,
     "metadata": {},
     "output_type": "execute_result"
    },
    {
     "data": {
      "image/png": "[encoded data removed]",
      "text/plain": [
       "<Figure size 864x576 with 1 Axes>"
      ]
     },
     "metadata": {},
     "output_type": "display_data"
    }
   ],
   "source": [
    "import matplotlib.style as style\n",
    "style.use('seaborn-poster') #sets the size of the charts\n",
    "style.use('ggplot')\n",
    "\n",
    "data_sample.plot(kind='scatter', x='end station longitude', y='end station latitude', alpha=1, figsize=(12,8))"
   ]
  },
  {
   "cell_type": "markdown",
   "metadata": {},
   "source": [
    "The frequency of visits to a given station can be visualized by the appropriate marker shade"
   ]
  },
  {
   "cell_type": "code",
   "execution_count": 127,
   "metadata": {},
   "outputs": [
    {
     "data": {
      "text/plain": [
       "<matplotlib.axes._subplots.AxesSubplot at 0x1f909e16a08>"
      ]
     },
     "execution_count": 127,
     "metadata": {},
     "output_type": "execute_result"
    },
    {
     "data": {
      "image/png": "[encoded data removed]",
      "text/plain": [
       "<Figure size 864x576 with 1 Axes>"
      ]
     },
     "metadata": {},
     "output_type": "display_data"
    }
   ],
   "source": [
    "data_sample.plot(kind='scatter', x='end station longitude', y='end station latitude', alpha=0.1, figsize=(12,8))"
   ]
  },
  {
   "cell_type": "markdown",
   "metadata": {},
   "source": [
    "Clustered stations are definitely more frequently visited than those at the ends"
   ]
  },
  {
   "cell_type": "markdown",
   "metadata": {},
   "source": [
    "Interesting information that we can get from these is the frequency of visiting the station - both as the starting and ending point of the journey"
   ]
  },
  {
   "cell_type": "code",
   "execution_count": 128,
   "metadata": {},
   "outputs": [
    {
     "data": {
      "text/html": [
       "<div>\n",
       "<style scoped>\n",
       "    .dataframe tbody tr th:only-of-type {\n",
       "        vertical-align: middle;\n",
       "    }\n",
       "\n",
       "    .dataframe tbody tr th {\n",
       "        vertical-align: top;\n",
       "    }\n",
       "\n",
       "    .dataframe thead th {\n",
       "        text-align: right;\n",
       "    }\n",
       "</style>\n",
       "<table border=\"1\" class=\"dataframe\">\n",
       "  <thead>\n",
       "    <tr style=\"text-align: right;\">\n",
       "      <th></th>\n",
       "      <th>tripduration</th>\n",
       "      <th>starttime</th>\n",
       "      <th>stoptime</th>\n",
       "      <th>start station id</th>\n",
       "      <th>start station name</th>\n",
       "      <th>start station latitude</th>\n",
       "      <th>start station longitude</th>\n",
       "      <th>end station id</th>\n",
       "      <th>end station name</th>\n",
       "      <th>end station latitude</th>\n",
       "      <th>end station longitude</th>\n",
       "      <th>bikeid</th>\n",
       "      <th>usertype</th>\n",
       "      <th>birth year</th>\n",
       "      <th>gender</th>\n",
       "      <th>end_station</th>\n",
       "      <th>start_station</th>\n",
       "    </tr>\n",
       "  </thead>\n",
       "  <tbody>\n",
       "    <tr>\n",
       "      <th>0</th>\n",
       "      <td>527</td>\n",
       "      <td>2019-10-01 00:00:05.618</td>\n",
       "      <td>2019-10-01 00:08:52.943</td>\n",
       "      <td>3746</td>\n",
       "      <td>6 Ave &amp; Broome St</td>\n",
       "      <td>40.724308</td>\n",
       "      <td>-74.004730</td>\n",
       "      <td>223</td>\n",
       "      <td>W 13 St &amp; 7 Ave</td>\n",
       "      <td>40.737815</td>\n",
       "      <td>-73.999947</td>\n",
       "      <td>41750</td>\n",
       "      <td>Subscriber</td>\n",
       "      <td>1993</td>\n",
       "      <td>1</td>\n",
       "      <td>223</td>\n",
       "      <td>3746</td>\n",
       "    </tr>\n",
       "    <tr>\n",
       "      <th>1</th>\n",
       "      <td>174</td>\n",
       "      <td>2019-10-01 00:00:15.875</td>\n",
       "      <td>2019-10-01 00:03:10.168</td>\n",
       "      <td>3301</td>\n",
       "      <td>Columbus Ave &amp; W 95 St</td>\n",
       "      <td>40.791956</td>\n",
       "      <td>-73.968087</td>\n",
       "      <td>3283</td>\n",
       "      <td>W 89 St &amp; Columbus Ave</td>\n",
       "      <td>40.788221</td>\n",
       "      <td>-73.970416</td>\n",
       "      <td>18264</td>\n",
       "      <td>Subscriber</td>\n",
       "      <td>1992</td>\n",
       "      <td>1</td>\n",
       "      <td>3283</td>\n",
       "      <td>3301</td>\n",
       "    </tr>\n",
       "    <tr>\n",
       "      <th>2</th>\n",
       "      <td>759</td>\n",
       "      <td>2019-10-01 00:00:19.824</td>\n",
       "      <td>2019-10-01 00:12:59.707</td>\n",
       "      <td>161</td>\n",
       "      <td>LaGuardia Pl &amp; W 3 St</td>\n",
       "      <td>40.729170</td>\n",
       "      <td>-73.998102</td>\n",
       "      <td>174</td>\n",
       "      <td>E 25 St &amp; 1 Ave</td>\n",
       "      <td>40.738177</td>\n",
       "      <td>-73.977387</td>\n",
       "      <td>25525</td>\n",
       "      <td>Subscriber</td>\n",
       "      <td>1995</td>\n",
       "      <td>1</td>\n",
       "      <td>174</td>\n",
       "      <td>161</td>\n",
       "    </tr>\n",
       "    <tr>\n",
       "      <th>3</th>\n",
       "      <td>615</td>\n",
       "      <td>2019-10-01 00:00:21.068</td>\n",
       "      <td>2019-10-01 00:10:36.679</td>\n",
       "      <td>254</td>\n",
       "      <td>W 11 St &amp; 6 Ave</td>\n",
       "      <td>40.735324</td>\n",
       "      <td>-73.998004</td>\n",
       "      <td>477</td>\n",
       "      <td>W 41 St &amp; 8 Ave</td>\n",
       "      <td>40.756405</td>\n",
       "      <td>-73.990026</td>\n",
       "      <td>30186</td>\n",
       "      <td>Subscriber</td>\n",
       "      <td>1992</td>\n",
       "      <td>1</td>\n",
       "      <td>477</td>\n",
       "      <td>254</td>\n",
       "    </tr>\n",
       "    <tr>\n",
       "      <th>4</th>\n",
       "      <td>761</td>\n",
       "      <td>2019-10-01 00:00:26.380</td>\n",
       "      <td>2019-10-01 00:13:08.313</td>\n",
       "      <td>161</td>\n",
       "      <td>LaGuardia Pl &amp; W 3 St</td>\n",
       "      <td>40.729170</td>\n",
       "      <td>-73.998102</td>\n",
       "      <td>174</td>\n",
       "      <td>E 25 St &amp; 1 Ave</td>\n",
       "      <td>40.738177</td>\n",
       "      <td>-73.977387</td>\n",
       "      <td>25597</td>\n",
       "      <td>Subscriber</td>\n",
       "      <td>1992</td>\n",
       "      <td>1</td>\n",
       "      <td>174</td>\n",
       "      <td>161</td>\n",
       "    </tr>\n",
       "    <tr>\n",
       "      <th>5</th>\n",
       "      <td>750</td>\n",
       "      <td>2019-10-01 00:00:37.906</td>\n",
       "      <td>2019-10-01 00:13:08.413</td>\n",
       "      <td>161</td>\n",
       "      <td>LaGuardia Pl &amp; W 3 St</td>\n",
       "      <td>40.729170</td>\n",
       "      <td>-73.998102</td>\n",
       "      <td>174</td>\n",
       "      <td>E 25 St &amp; 1 Ave</td>\n",
       "      <td>40.738177</td>\n",
       "      <td>-73.977387</td>\n",
       "      <td>21757</td>\n",
       "      <td>Subscriber</td>\n",
       "      <td>1995</td>\n",
       "      <td>1</td>\n",
       "      <td>174</td>\n",
       "      <td>161</td>\n",
       "    </tr>\n",
       "    <tr>\n",
       "      <th>6</th>\n",
       "      <td>454</td>\n",
       "      <td>2019-10-01 00:01:18.448</td>\n",
       "      <td>2019-10-01 00:08:52.817</td>\n",
       "      <td>525</td>\n",
       "      <td>W 34 St &amp; 11 Ave</td>\n",
       "      <td>40.755942</td>\n",
       "      <td>-74.002116</td>\n",
       "      <td>477</td>\n",
       "      <td>W 41 St &amp; 8 Ave</td>\n",
       "      <td>40.756405</td>\n",
       "      <td>-73.990026</td>\n",
       "      <td>41079</td>\n",
       "      <td>Subscriber</td>\n",
       "      <td>1994</td>\n",
       "      <td>1</td>\n",
       "      <td>477</td>\n",
       "      <td>525</td>\n",
       "    </tr>\n",
       "    <tr>\n",
       "      <th>7</th>\n",
       "      <td>416</td>\n",
       "      <td>2019-10-01 00:01:21.455</td>\n",
       "      <td>2019-10-01 00:08:17.742</td>\n",
       "      <td>3616</td>\n",
       "      <td>Steinway St &amp; 28 Ave</td>\n",
       "      <td>40.765625</td>\n",
       "      <td>-73.913669</td>\n",
       "      <td>3592</td>\n",
       "      <td>Crescent St &amp; Broadway</td>\n",
       "      <td>40.763359</td>\n",
       "      <td>-73.928647</td>\n",
       "      <td>33413</td>\n",
       "      <td>Subscriber</td>\n",
       "      <td>1988</td>\n",
       "      <td>1</td>\n",
       "      <td>3592</td>\n",
       "      <td>3616</td>\n",
       "    </tr>\n",
       "    <tr>\n",
       "      <th>8</th>\n",
       "      <td>118</td>\n",
       "      <td>2019-10-01 00:02:00.775</td>\n",
       "      <td>2019-10-01 00:03:59.561</td>\n",
       "      <td>3306</td>\n",
       "      <td>10 St &amp; 7 Ave</td>\n",
       "      <td>40.666208</td>\n",
       "      <td>-73.981999</td>\n",
       "      <td>3310</td>\n",
       "      <td>14 St &amp; 7 Ave</td>\n",
       "      <td>40.663779</td>\n",
       "      <td>-73.983968</td>\n",
       "      <td>38925</td>\n",
       "      <td>Subscriber</td>\n",
       "      <td>1976</td>\n",
       "      <td>1</td>\n",
       "      <td>3310</td>\n",
       "      <td>3306</td>\n",
       "    </tr>\n",
       "    <tr>\n",
       "      <th>9</th>\n",
       "      <td>1301</td>\n",
       "      <td>2019-10-01 00:02:06.301</td>\n",
       "      <td>2019-10-01 00:23:47.946</td>\n",
       "      <td>3687</td>\n",
       "      <td>E 33 St &amp; 1 Ave</td>\n",
       "      <td>40.743227</td>\n",
       "      <td>-73.974498</td>\n",
       "      <td>259</td>\n",
       "      <td>South St &amp; Whitehall St</td>\n",
       "      <td>40.701221</td>\n",
       "      <td>-74.012342</td>\n",
       "      <td>41376</td>\n",
       "      <td>Subscriber</td>\n",
       "      <td>1963</td>\n",
       "      <td>1</td>\n",
       "      <td>259</td>\n",
       "      <td>3687</td>\n",
       "    </tr>\n",
       "  </tbody>\n",
       "</table>\n",
       "</div>"
      ],
      "text/plain": [
       "   tripduration               starttime                stoptime  \\\n",
       "0           527 2019-10-01 00:00:05.618 2019-10-01 00:08:52.943   \n",
       "1           174 2019-10-01 00:00:15.875 2019-10-01 00:03:10.168   \n",
       "2           759 2019-10-01 00:00:19.824 2019-10-01 00:12:59.707   \n",
       "3           615 2019-10-01 00:00:21.068 2019-10-01 00:10:36.679   \n",
       "4           761 2019-10-01 00:00:26.380 2019-10-01 00:13:08.313   \n",
       "5           750 2019-10-01 00:00:37.906 2019-10-01 00:13:08.413   \n",
       "6           454 2019-10-01 00:01:18.448 2019-10-01 00:08:52.817   \n",
       "7           416 2019-10-01 00:01:21.455 2019-10-01 00:08:17.742   \n",
       "8           118 2019-10-01 00:02:00.775 2019-10-01 00:03:59.561   \n",
       "9          1301 2019-10-01 00:02:06.301 2019-10-01 00:23:47.946   \n",
       "\n",
       "   start station id      start station name  start station latitude  \\\n",
       "0              3746       6 Ave & Broome St               40.724308   \n",
       "1              3301  Columbus Ave & W 95 St               40.791956   \n",
       "2               161   LaGuardia Pl & W 3 St               40.729170   \n",
       "3               254         W 11 St & 6 Ave               40.735324   \n",
       "4               161   LaGuardia Pl & W 3 St               40.729170   \n",
       "5               161   LaGuardia Pl & W 3 St               40.729170   \n",
       "6               525        W 34 St & 11 Ave               40.755942   \n",
       "7              3616    Steinway St & 28 Ave               40.765625   \n",
       "8              3306           10 St & 7 Ave               40.666208   \n",
       "9              3687         E 33 St & 1 Ave               40.743227   \n",
       "\n",
       "   start station longitude  end station id         end station name  \\\n",
       "0               -74.004730             223          W 13 St & 7 Ave   \n",
       "1               -73.968087            3283   W 89 St & Columbus Ave   \n",
       "2               -73.998102             174          E 25 St & 1 Ave   \n",
       "3               -73.998004             477          W 41 St & 8 Ave   \n",
       "4               -73.998102             174          E 25 St & 1 Ave   \n",
       "5               -73.998102             174          E 25 St & 1 Ave   \n",
       "6               -74.002116             477          W 41 St & 8 Ave   \n",
       "7               -73.913669            3592   Crescent St & Broadway   \n",
       "8               -73.981999            3310            14 St & 7 Ave   \n",
       "9               -73.974498             259  South St & Whitehall St   \n",
       "\n",
       "   end station latitude  end station longitude  bikeid    usertype  \\\n",
       "0             40.737815             -73.999947   41750  Subscriber   \n",
       "1             40.788221             -73.970416   18264  Subscriber   \n",
       "2             40.738177             -73.977387   25525  Subscriber   \n",
       "3             40.756405             -73.990026   30186  Subscriber   \n",
       "4             40.738177             -73.977387   25597  Subscriber   \n",
       "5             40.738177             -73.977387   21757  Subscriber   \n",
       "6             40.756405             -73.990026   41079  Subscriber   \n",
       "7             40.763359             -73.928647   33413  Subscriber   \n",
       "8             40.663779             -73.983968   38925  Subscriber   \n",
       "9             40.701221             -74.012342   41376  Subscriber   \n",
       "\n",
       "   birth year  gender  end_station  start_station  \n",
       "0        1993       1          223           3746  \n",
       "1        1992       1         3283           3301  \n",
       "2        1995       1          174            161  \n",
       "3        1992       1          477            254  \n",
       "4        1992       1          174            161  \n",
       "5        1995       1          174            161  \n",
       "6        1994       1          477            525  \n",
       "7        1988       1         3592           3616  \n",
       "8        1976       1         3310           3306  \n",
       "9        1963       1          259           3687  "
      ]
     },
     "execution_count": 128,
     "metadata": {},
     "output_type": "execute_result"
    }
   ],
   "source": [
    "data_sample['end_station'] = data_sample['end station id']\n",
    "data_sample['end_station'].groupby(data_sample['end station id']).transform(len)\n",
    "\n",
    "data_sample['start_station'] = data_sample['start station id']\n",
    "data_sample['start_station'].groupby(data_sample['start station id']).transform(len)\n",
    "\n",
    "data_sample.head(10)"
   ]
  },
  {
   "cell_type": "markdown",
   "metadata": {},
   "source": [
    "Let's see which stations are the most common destinations"
   ]
  },
  {
   "cell_type": "code",
   "execution_count": null,
   "metadata": {},
   "outputs": [
    {
     "data": {
      "text/plain": [
       "<matplotlib.axes._subplots.AxesSubplot at 0x1f90a4888c8>"
      ]
     },
     "execution_count": 129,
     "metadata": {},
     "output_type": "execute_result"
    }
   ],
   "source": [
    "data_sample.plot(kind='scatter', x='end station longitude', y='end station latitude', alpha=0.5, \n",
    "                 c=data_sample['end_station'], figsize=(14,8), cmap=plt.get_cmap('jet'), colorbar=True)"
   ]
  },
  {
   "cell_type": "markdown",
   "metadata": {},
   "source": [
    "An analogous graph for the starting places"
   ]
  },
  {
   "cell_type": "code",
   "execution_count": null,
   "metadata": {},
   "outputs": [],
   "source": [
    "data_sample.plot(kind='scatter', x='end station longitude', y='end station latitude', alpha=0.5, \n",
    "                 c=data_sample['start_station'], figsize=(14,8), cmap=plt.get_cmap('jet'), colorbar=True)"
   ]
  },
  {
   "cell_type": "code",
   "execution_count": null,
   "metadata": {},
   "outputs": [],
   "source": []
  }
 ],
 "metadata": {
  "kernelspec": {
   "display_name": "Python 3",
   "language": "python",
   "name": "python3"
  },
  "language_info": {
   "codemirror_mode": {
    "name": "ipython",
    "version": 3
   },
   "file_extension": ".py",
   "mimetype": "text/x-python",
   "name": "python",
   "nbconvert_exporter": "python",
   "pygments_lexer": "ipython3",
   "version": "3.7.5"
  }
 },
 "nbformat": 4,
 "nbformat_minor": 2
}
